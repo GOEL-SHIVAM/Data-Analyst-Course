{
  "nbformat": 4,
  "nbformat_minor": 0,
  "metadata": {
    "colab": {
      "provenance": [],
      "authorship_tag": "ABX9TyMSTxsGIyn1/bYVZbh6t2ef",
      "include_colab_link": true
    },
    "kernelspec": {
      "name": "python3",
      "display_name": "Python 3"
    },
    "language_info": {
      "name": "python"
    }
  },
  "cells": [
    {
      "cell_type": "markdown",
      "metadata": {
        "id": "view-in-github",
        "colab_type": "text"
      },
      "source": [
        "<a href=\"https://colab.research.google.com/github/GOEL-SHIVAM/Data-Analyst-Course/blob/python-course/python_course_30dc.ipynb\" target=\"_parent\"><img src=\"https://colab.research.google.com/assets/colab-badge.svg\" alt=\"Open In Colab\"/></a>"
      ]
    },
    {
      "cell_type": "code",
      "execution_count": 9,
      "metadata": {
        "id": "tY898F_0LEi6",
        "colab": {
          "base_uri": "https://localhost:8080/"
        },
        "outputId": "38399407-bae9-46b5-802a-5e31bf3bc4f1"
      },
      "outputs": [
        {
          "output_type": "stream",
          "name": "stdout",
          "text": [
            "Hello World\n"
          ]
        }
      ],
      "source": [
        "print(\"Hello World\")\n",
        "\n",
        "# comment in python\n",
        "# pemdas rule used in arithmatic operation"
      ]
    },
    {
      "cell_type": "code",
      "source": [
        "z = 10\n",
        "print(z)\n",
        "type(z)\n"
      ],
      "metadata": {
        "colab": {
          "base_uri": "https://localhost:8080/"
        },
        "id": "lqC7EllHLlpW",
        "outputId": "965fba54-d0e9-4e0f-c88a-e528d15dc9e0"
      },
      "execution_count": 14,
      "outputs": [
        {
          "output_type": "stream",
          "name": "stdout",
          "text": [
            "10\n"
          ]
        },
        {
          "output_type": "execute_result",
          "data": {
            "text/plain": [
              "int"
            ]
          },
          "metadata": {},
          "execution_count": 14
        }
      ]
    },
    {
      "cell_type": "code",
      "source": [
        "x = 2\n",
        "fat2 = (x**2)/x+2-3/(x%10)\n",
        "print(fat2)"
      ],
      "metadata": {
        "colab": {
          "base_uri": "https://localhost:8080/"
        },
        "id": "RIdF1S8XQkEW",
        "outputId": "3effcfb5-952f-46f6-a2f3-0d3565e7abe6"
      },
      "execution_count": 18,
      "outputs": [
        {
          "output_type": "stream",
          "name": "stdout",
          "text": [
            "2.5\n"
          ]
        }
      ]
    }
  ]
}